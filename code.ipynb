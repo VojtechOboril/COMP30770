{
 "cells": [
  {
   "cell_type": "markdown",
   "metadata": {},
   "source": [
    "# Imports"
   ]
  },
  {
   "cell_type": "code",
   "execution_count": 1,
   "metadata": {},
   "outputs": [],
   "source": [
    "from pyspark.sql import SparkSession\n",
    "from pyspark.sql.functions import col, to_date, avg, regexp_replace, stddev, min, max, count, expr, substring\n",
    "from pyspark import SparkConf, SparkContext\n",
    "import time\n",
    "import pandas as pd\n",
    "\n",
    "import os\n",
    "os.environ[\"PYSPARK_PYTHON\"] = \"C:/Python/python.exe\"\n",
    "os.environ[\"PYSPARK_DRIVER_PYTHON\"] = \"C:/Python/python.exe\"\n"
   ]
  },
  {
   "cell_type": "code",
   "execution_count": 2,
   "metadata": {},
   "outputs": [],
   "source": [
    "\n",
    "# Initialize Spark session\n",
    "spark = SparkSession.builder.appName(\"IrelandPropertyPrices\").getOrCreate()"
   ]
  },
  {
   "cell_type": "code",
   "execution_count": 3,
   "metadata": {},
   "outputs": [
    {
     "data": {
      "text/plain": [
       "Row(Date='28/01/2010', Price='250,000.00', Address='18 Wolseley Court, Tullow', County='Carlow')"
      ]
     },
     "execution_count": 3,
     "metadata": {},
     "output_type": "execute_result"
    }
   ],
   "source": [
    "# Load dataset\n",
    "data_path = \"House Prices.csv\"\n",
    "data_path_2 = \"House Prices Large.csv\"\n",
    "df = spark.read.csv(data_path_2, header=True, inferSchema=True)\n",
    "df.head()\n"
   ]
  },
  {
   "cell_type": "markdown",
   "metadata": {},
   "source": [
    "# Data Cleanup"
   ]
  },
  {
   "cell_type": "code",
   "execution_count": 4,
   "metadata": {},
   "outputs": [
    {
     "data": {
      "text/plain": [
       "Row(Date=datetime.date(2010, 1, 28), Price=250000.0, Address='18 Wolseley Court, Tullow', County='Carlow')"
      ]
     },
     "execution_count": 4,
     "metadata": {},
     "output_type": "execute_result"
    }
   ],
   "source": [
    "# Convert date string to standard SQL format\n",
    "df = df.withColumn(\"Date\", to_date(col(\"Date\"), \"dd/MM/yyyy\"))\n",
    "# Remove commas from Price column and convert to float\n",
    "df = df.withColumn(\"Price\", regexp_replace(col(\"Price\"), \",\", \"\").cast(\"float\"))\n",
    "\n",
    "df = df.filter(col(\"Price\").isNotNull())\n",
    "df.head()"
   ]
  },
  {
   "cell_type": "markdown",
   "metadata": {},
   "source": [
    "# Section 3"
   ]
  },
  {
   "cell_type": "code",
   "execution_count": 5,
   "metadata": {},
   "outputs": [
    {
     "name": "stdout",
     "output_type": "stream",
     "text": [
      "+---------+-----------------+\n",
      "|   County|transaction_count|\n",
      "+---------+-----------------+\n",
      "|    Clare|           230098|\n",
      "|  Wexford|           342342|\n",
      "|  Leitrim|            90750|\n",
      "|Roscommon|           143726|\n",
      "|   Dublin|          3225112|\n",
      "| Limerick|           376618|\n",
      "|  Donegal|           275968|\n",
      "|   Galway|           507606|\n",
      "|   Offaly|           120252|\n",
      "|     Cork|          1103102|\n",
      "|  Kildare|           506660|\n",
      "|Tipperary|           270094|\n",
      "| Monaghan|            78166|\n",
      "|  Wicklow|           313940|\n",
      "|     Mayo|           238304|\n",
      "|    Meath|           401214|\n",
      "|   Carlow|           109296|\n",
      "|Westmeath|           194040|\n",
      "|    Louth|           268378|\n",
      "|    Sligo|           149050|\n",
      "+---------+-----------------+\n",
      "only showing top 20 rows\n",
      "\n",
      "Transaction count computation time: 4.25 seconds\n"
     ]
    }
   ],
   "source": [
    "start_time = time.time()\n",
    "df_count = df.groupBy(\"County\").agg(count(\"*\").alias(\"transaction_count\"))\n",
    "df_count.show()\n",
    "print(\"Transaction count computation time: {:.2f} seconds\".format(time.time() - start_time))"
   ]
  },
  {
   "cell_type": "code",
   "execution_count": 6,
   "metadata": {},
   "outputs": [
    {
     "name": "stdout",
     "output_type": "stream",
     "text": [
      "+---------+------------------+------------------+---------+------------+\n",
      "|   County|         avg_price|         std_price|min_price|   max_price|\n",
      "+---------+------------------+------------------+---------+------------+\n",
      "|    Clare|157858.54780366342| 417076.8922726006|   5987.0|     3.318E7|\n",
      "|  Wexford|157917.46489019023| 152657.1161820317|   5500.0|    1.3995E7|\n",
      "|  Leitrim|100152.79677462121|  73509.4532566325|   6000.0|   1234513.0|\n",
      "|Roscommon|102819.36880758026| 80877.64824711277|   5179.0|   1670000.0|\n",
      "|   Dublin|407106.22332968016|1366344.2071813613|   5250.0|1.42256576E8|\n",
      "| Limerick|167566.64301940074|176922.32066084692|   6000.0| 1.1159572E7|\n",
      "|  Donegal|116489.85552402418| 96869.32158033803|   5079.0|   2904000.0|\n",
      "|   Galway|202985.68767926714| 325728.7438527414|   5864.0|    3.4781E7|\n",
      "|   Offaly| 137048.4111739046| 91011.57060714523|   6200.0|   1460000.0|\n",
      "|     Cork| 226722.7130350809| 609174.3794845189|  5030.53|  6.987348E7|\n",
      "|  Kildare|264110.19415758655|329899.73468304885|   6500.0|      2.65E7|\n",
      "|Tipperary|137579.83486134832|130506.88750296165|   5080.0|   6230344.0|\n",
      "| Monaghan|129981.76315844445|115150.34141119439|   5298.0|   2151174.5|\n",
      "|  Wicklow|  309327.618707331|323719.66933214944|   6248.0|  2.023235E7|\n",
      "|     Mayo| 126441.3280941218|149409.26231268205|   5254.0|   7762438.0|\n",
      "|    Meath|238104.12462376882|164992.49827321377|   6000.0|   5536500.0|\n",
      "|   Carlow| 150984.6575803895|131173.32470332386|   7500.0|   5101321.5|\n",
      "|Westmeath|150854.49388275493|186499.57904439242|   5500.0|       1.4E7|\n",
      "|    Louth|182448.90702370903|177501.66278719617|   6900.0|   7200000.0|\n",
      "|    Sligo|133207.24052467712| 135030.3635888416|   5177.0|   5559481.0|\n",
      "+---------+------------------+------------------+---------+------------+\n",
      "only showing top 20 rows\n",
      "\n",
      "Price statistics computation time: 4.66 seconds\n"
     ]
    }
   ],
   "source": [
    "start_time = time.time()\n",
    "df_stats = df.groupBy(\"County\").agg(\n",
    "    avg(\"Price\").alias(\"avg_price\"),\n",
    "    stddev(\"Price\").alias(\"std_price\"),\n",
    "    min(\"Price\").alias(\"min_price\"),\n",
    "    max(\"Price\").alias(\"max_price\")\n",
    ")\n",
    "df_stats.show()\n",
    "print(\"Price statistics computation time: {:.2f} seconds\".format(time.time() - start_time))\n"
   ]
  },
  {
   "cell_type": "code",
   "execution_count": 7,
   "metadata": {},
   "outputs": [
    {
     "name": "stdout",
     "output_type": "stream",
     "text": [
      "+---------+--------+------------+---------+\n",
      "|   County|price_25|median_price| price_75|\n",
      "+---------+--------+------------+---------+\n",
      "|    Clare| 80000.0|    133000.0| 195000.0|\n",
      "|  Wexford| 90000.0|    144000.0| 199000.0|\n",
      "|  Leitrim| 51300.0|     83000.0| 130000.0|\n",
      "|Roscommon| 50000.0|     83500.0| 140000.0|\n",
      "|   Dublin|210000.0|    300000.0| 430000.0|\n",
      "| Limerick| 80500.0|    145000.0| 220000.0|\n",
      "|  Donegal| 60000.0|    100000.0| 150000.0|\n",
      "|   Galway|105000.0|    172000.0| 251580.0|\n",
      "|   Offaly| 75000.0|    123000.0| 175000.0|\n",
      "|     Cork|120000.0|    190000.0| 272000.0|\n",
      "|  Kildare|170000.0|    243000.0|317180.62|\n",
      "|Tipperary| 67000.0|    120000.0| 175000.0|\n",
      "| Monaghan| 64709.0|    115000.0| 170000.0|\n",
      "|  Wicklow|181500.0|    263000.0| 375000.0|\n",
      "|     Mayo| 60000.0|    105000.0| 161000.0|\n",
      "|    Meath|155000.0|    225000.0| 288986.0|\n",
      "|   Carlow| 87000.0|    135000.0| 186000.0|\n",
      "|Westmeath| 85000.0|    130000.0| 188000.0|\n",
      "|    Louth|105000.0|    163000.0|220264.31|\n",
      "|    Sligo| 65000.0|    105000.0| 167250.0|\n",
      "+---------+--------+------------+---------+\n",
      "only showing top 20 rows\n",
      "\n",
      "Price percentiles computation time: 18.29 seconds\n"
     ]
    }
   ],
   "source": [
    "start_time = time.time()\n",
    "df_percentiles = df.groupBy(\"County\").agg(\n",
    "    expr(\"percentile_approx(Price, 0.25) as price_25\"),\n",
    "    expr(\"percentile_approx(Price, 0.5) as median_price\"),\n",
    "    expr(\"percentile_approx(Price, 0.75) as price_75\")\n",
    ")\n",
    "df_percentiles.show()\n",
    "print(\"Price percentiles computation time: {:.2f} seconds\".format(time.time() - start_time))\n"
   ]
  },
  {
   "cell_type": "code",
   "execution_count": 8,
   "metadata": {},
   "outputs": [
    {
     "name": "stdout",
     "output_type": "stream",
     "text": [
      "+---------+-------+------------------+\n",
      "|   County|  Month|         avg_price|\n",
      "+---------+-------+------------------+\n",
      "|  Donegal|2017-10|111062.43911047149|\n",
      "|  Donegal|2018-01|123682.99894425676|\n",
      "|   Galway|2012-06| 156283.1541498656|\n",
      "|   Galway|2019-05|216289.01270933016|\n",
      "|    Kerry|2012-02|143969.69850852274|\n",
      "|    Kerry|2014-02| 115519.3711622807|\n",
      "|  Kildare|2020-04| 370937.2877731822|\n",
      "|  Kildare|2020-10| 308641.8259715545|\n",
      "| Kilkenny|2017-07|185898.83333333334|\n",
      "| Limerick|2019-05|179867.83138420247|\n",
      "|    Louth|2020-04|205108.65651939655|\n",
      "|     Mayo|2015-03|107395.60106382979|\n",
      "| Monaghan|2014-09|     109111.460625|\n",
      "|   Offaly|2014-03|112511.11111111111|\n",
      "|   Offaly|2018-03| 126440.1689453125|\n",
      "|Waterford|2013-02|         114253.24|\n",
      "|Waterford|2020-02|191644.66349003234|\n",
      "|Waterford|2020-06|196748.84053938356|\n",
      "|Westmeath|2018-01|206035.15735035212|\n",
      "|  Wexford|2010-12|161412.25137061405|\n",
      "+---------+-------+------------------+\n",
      "only showing top 20 rows\n",
      "\n",
      "Monthly average price computation time: 10.37 seconds\n"
     ]
    }
   ],
   "source": [
    "start_time = time.time()\n",
    "# Create a Month column in the format 'YYYY-MM'\n",
    "df = df.withColumn(\"Month\", substring(col(\"Date\").cast(\"string\"), 1, 7))\n",
    "df_monthly_avg = df.groupBy(\"County\", \"Month\").agg(avg(\"Price\").alias(\"avg_price\"))\n",
    "df_monthly_avg.show()\n",
    "print(\"Monthly average price computation time: {:.2f} seconds\".format(time.time() - start_time))"
   ]
  },
  {
   "cell_type": "markdown",
   "metadata": {},
   "source": [
    "# Section 4\n",
    "<br> parallel"
   ]
  },
  {
   "cell_type": "code",
   "execution_count": 9,
   "metadata": {},
   "outputs": [
    {
     "name": "stdout",
     "output_type": "stream",
     "text": [
      "MapReduce average price per county:\n",
      "Cavan: 117502.10\n",
      "Clare: 157858.55\n",
      "Laois: 147404.01\n",
      "Carlow: 150984.66\n",
      "Leitrim: 100152.80\n",
      "Offaly: 137048.41\n",
      "Waterford: 156911.61\n",
      "Wexford: 157917.46\n",
      "Meath: 238104.12\n",
      "Dublin: 407106.22\n",
      "Kildare: 264110.19\n",
      "Kilkenny: 180548.36\n",
      "Sligo: 133207.24\n",
      "Monaghan: 129981.76\n",
      "Kerry: 159410.14\n",
      "Donegal: 116489.86\n",
      "Louth: 182448.91\n",
      "Roscommon: 102819.37\n",
      "Wicklow: 309327.62\n",
      "Cork: 226722.71\n",
      "Galway: 202985.69\n",
      "Westmeath: 150854.49\n",
      "Limerick: 167566.64\n",
      "Tipperary: 137579.83\n",
      "Longford: 95573.43\n",
      "Mayo: 126441.33\n",
      "MapReduce computation time: 36.77 seconds\n"
     ]
    }
   ],
   "source": [
    "# Convert DataFrame to RDD for MapReduce processing\n",
    "rdd = df.select(\"County\", \"Price\").rdd.map(lambda row: (row.County, (row.Price, 1)))\n",
    "\n",
    "# Reducer function to sum prices and counts\n",
    "def reducer(val1, val2):\n",
    "    return (val1[0] + val2[0], val1[1] + val2[1])\n",
    "\n",
    "start_time = time.time()\n",
    "reduced_rdd = rdd.reduceByKey(reducer)\n",
    "final_rdd = reduced_rdd.mapValues(lambda x: x[0] / x[1])\n",
    "result = final_rdd.collect()\n",
    "\n",
    "print(\"MapReduce average price per county:\")\n",
    "for county, avg_price in result:\n",
    "    print(f\"{county}: {avg_price:.2f}\")\n",
    "print(\"MapReduce computation time: {:.2f} seconds\".format(time.time() - start_time))\n"
   ]
  },
  {
   "cell_type": "code",
   "execution_count": null,
   "metadata": {},
   "outputs": [],
   "source": [
    "start_time = time.time()\n",
    "df_monthly_metrics = df.groupBy(\"County\", \"Month\").agg(\n",
    "    avg(\"Price\").alias(\"avg_price\"),\n",
    "    count(\"*\").alias(\"transaction_count\")\n",
    ")\n",
    "df_monthly_metrics.show()\n",
    "print(\"Monthly metrics (average price and count) computation time: {:.2f} seconds\".format(time.time() - start_time))"
   ]
  },
  {
   "cell_type": "markdown",
   "metadata": {},
   "source": [
    "non parallel"
   ]
  },
  {
   "cell_type": "code",
   "execution_count": 10,
   "metadata": {},
   "outputs": [
    {
     "name": "stdout",
     "output_type": "stream",
     "text": [
      "+---------+------------------+\n",
      "|   County|         avg_price|\n",
      "+---------+------------------+\n",
      "|   Carlow| 150984.6575803895|\n",
      "|    Cavan| 117502.1000625127|\n",
      "|    Clare|157858.54780366342|\n",
      "|     Cork| 226722.7130350809|\n",
      "|  Donegal|116489.85552402418|\n",
      "|   Dublin|407106.22332968016|\n",
      "|   Galway|202985.68767926714|\n",
      "|    Kerry|159410.14217606955|\n",
      "|  Kildare|264110.19415758655|\n",
      "| Kilkenny|180548.35543866633|\n",
      "|    Laois|147404.00575155977|\n",
      "|  Leitrim|100152.79677462121|\n",
      "| Limerick|167566.64301940074|\n",
      "| Longford| 95573.42759475826|\n",
      "|    Louth|182448.90702370903|\n",
      "|     Mayo| 126441.3280941218|\n",
      "|    Meath|238104.12462376882|\n",
      "| Monaghan|129981.76315844445|\n",
      "|   Offaly| 137048.4111739046|\n",
      "|Roscommon|102819.36880758026|\n",
      "+---------+------------------+\n",
      "only showing top 20 rows\n",
      "\n",
      "Non-parallel (single partition) average price per county computation time: 21.38 seconds\n"
     ]
    }
   ],
   "source": [
    "df_non_parallel = df.coalesce(1)\n",
    "\n",
    "start_time = time.time()\n",
    "avg_price_np_df = df_non_parallel.groupBy(\"County\").agg(avg(\"Price\").alias(\"avg_price\"))\n",
    "avg_price_np_df.show()\n",
    "print(\"Non-parallel (single partition) average price per county computation time: {:.2f} seconds\".format(time.time() - start_time))"
   ]
  },
  {
   "cell_type": "code",
   "execution_count": 11,
   "metadata": {},
   "outputs": [
    {
     "name": "stdout",
     "output_type": "stream",
     "text": [
      "+------+-------+------------------+-----------------+\n",
      "|County|  Month|         avg_price|transaction_count|\n",
      "+------+-------+------------------+-----------------+\n",
      "|Carlow|2010-01|169445.59479166666|              330|\n",
      "|Carlow|2010-02|177205.77083333334|              264|\n",
      "|Carlow|2010-03|169528.29447115384|              286|\n",
      "|Carlow|2010-04|         161593.75|              352|\n",
      "|Carlow|2010-05|205699.17647058822|              374|\n",
      "|Carlow|2010-06|          165359.0|              242|\n",
      "|Carlow|2010-07|153316.91974431818|              484|\n",
      "|Carlow|2010-08|212958.17310855264|              418|\n",
      "|Carlow|2010-09| 178012.7762784091|              484|\n",
      "|Carlow|2010-10|178776.13454861112|              396|\n",
      "|Carlow|2010-11|160224.91623263888|              792|\n",
      "|Carlow|2010-12|171669.46510416668|              660|\n",
      "|Carlow|2011-01|170409.58353365384|              286|\n",
      "|Carlow|2011-02|168266.91517857142|              308|\n",
      "|Carlow|2011-03|154126.38461538462|              286|\n",
      "|Carlow|2011-04|127955.54616477272|              242|\n",
      "|Carlow|2011-05| 142429.7920673077|              286|\n",
      "|Carlow|2011-06|150123.68421052632|              418|\n",
      "|Carlow|2011-07|148947.15380859375|              352|\n",
      "|Carlow|2011-08|          116394.0|              396|\n",
      "+------+-------+------------------+-----------------+\n",
      "only showing top 20 rows\n",
      "\n",
      "Non-parallel (single partition) monthly metrics computation time: 29.92 seconds\n"
     ]
    }
   ],
   "source": [
    "# Force the DataFrame to a single partition to simulate non-parallel execution\n",
    "df_non_parallel = df.coalesce(1)\n",
    "\n",
    "start_time = time.time()\n",
    "monthly_metrics_np_df = df_non_parallel.groupBy(\"County\", \"Month\").agg(\n",
    "    avg(\"Price\").alias(\"avg_price\"),\n",
    "    count(\"*\").alias(\"transaction_count\")\n",
    ")\n",
    "monthly_metrics_np_df.show()\n",
    "print(\"Non-parallel (single partition) monthly metrics computation time: {:.2f} seconds\".format(time.time() - start_time))\n"
   ]
  }
 ],
 "metadata": {
  "kernelspec": {
   "display_name": "Python 3",
   "language": "python",
   "name": "python3"
  },
  "language_info": {
   "codemirror_mode": {
    "name": "ipython",
    "version": 3
   },
   "file_extension": ".py",
   "mimetype": "text/x-python",
   "name": "python",
   "nbconvert_exporter": "python",
   "pygments_lexer": "ipython3",
   "version": "3.10.7"
  }
 },
 "nbformat": 4,
 "nbformat_minor": 2
}
